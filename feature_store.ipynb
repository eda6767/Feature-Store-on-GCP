{
 "cells": [
  {
   "cell_type": "code",
   "execution_count": null,
   "id": "91f95f89-d2d3-451d-a5f5-39e9bf2cf5d2",
   "metadata": {},
   "outputs": [],
   "source": [
    "! pip3 install --upgrade google-cloud-aiplatform \\\n",
    "                         google-cloud-bigquery \\\n",
    "                         pyarrow --quiet"
   ]
  },
  {
   "cell_type": "code",
   "execution_count": null,
   "id": "bc740c85-81da-4db7-b4d5-754017f1c941",
   "metadata": {},
   "outputs": [],
   "source": [
    "REGION = \"europe-west1\"\n",
    "DATA_REGION = \"EU\""
   ]
  },
  {
   "cell_type": "code",
   "execution_count": null,
   "id": "d716f4ca-2a25-4d05-a447-8520c90ccb49",
   "metadata": {},
   "outputs": [],
   "source": [
    "%%bash\n",
    "export PROJECT=$(gcloud config list project --format \"value(core.project)\")\n",
    "echo \"Your current GCP Project Name is: \"$PROJECT\n"
   ]
  },
  {
   "cell_type": "code",
   "execution_count": null,
   "id": "2f5d1743-4d60-4d39-a7aa-e6371a63c0c8",
   "metadata": {},
   "outputs": [],
   "source": [
    "PROJECT=\"integrated-myth-392717\""
   ]
  },
  {
   "cell_type": "code",
   "execution_count": null,
   "id": "97ffdf96-c860-4e76-8615-24a9f06b0c47",
   "metadata": {},
   "outputs": [],
   "source": [
    "import google.cloud.aiplatform as aiplatform\n",
    "from google.cloud import bigquery"
   ]
  },
  {
   "cell_type": "code",
   "execution_count": null,
   "id": "df44c73a-0278-48ab-97ec-c485893eb01f",
   "metadata": {},
   "outputs": [],
   "source": [
    "\n",
    "aiplatform.init(project=PROJECT, location=REGION)\n",
    "bqclient = bigquery.Client(project=PROJECT)"
   ]
  },
  {
   "cell_type": "code",
   "execution_count": null,
   "id": "f7960b79-f0be-45c6-9a09-e42a4ba059f6",
   "metadata": {},
   "outputs": [],
   "source": [
    "import numpy as np\n",
    "import pandas as pd\n",
    "from google.cloud import aiplatform, bigquery\n",
    "from google.cloud.aiplatform import Feature, Featurestore"
   ]
  },
  {
   "cell_type": "code",
   "execution_count": null,
   "id": "b11cb146-7be2-4741-bf26-3b6818c9a59f",
   "metadata": {},
   "outputs": [],
   "source": [
    "def download_bq_table(bq_table_uri: str) -> pd.DataFrame:\n",
    "    # Remove bq:// prefix if present\n",
    "    prefix = \"bq://\"\n",
    "    if bq_table_uri.startswith(prefix):\n",
    "        bq_table_uri = bq_table_uri[len(prefix) :]\n",
    "\n",
    "    table = bigquery.TableReference.from_string(bq_table_uri)\n",
    "\n",
    "    # Create a BigQuery client\n",
    "    bqclient = bigquery.Client(project=PROJECT)\n",
    "\n",
    "    # Download the table rows\n",
    "    rows = bqclient.list_rows(\n",
    "        table,\n",
    "    )\n",
    "    return rows.to_dataframe()"
   ]
  },
  {
   "cell_type": "code",
   "execution_count": null,
   "id": "2f6dc7c0-1829-4694-b422-ec85ec9b4d8e",
   "metadata": {},
   "outputs": [],
   "source": [
    "BQ_SOURCE = \"integrated-myth-392717.features.cust_agr\"\n",
    "\n",
    "# Download penguins BigQuery table\n",
    "clients_df = download_bq_table(BQ_SOURCE)"
   ]
  },
  {
   "cell_type": "code",
   "execution_count": null,
   "id": "d4aa78e7-8139-4eaf-adde-c4688355a0e1",
   "metadata": {},
   "outputs": [],
   "source": [
    "print(clients_df)\n",
    "clients_df = clients_df.set_index(\"client_id\")\n",
    "clients_df.index = clients_df.index.map(str)\n",
    "print(clients_df)"
   ]
  },
  {
   "attachments": {},
   "cell_type": "markdown",
   "id": "8e1a8046-6c40-44b3-bd8e-cd0393b840e3",
   "metadata": {},
   "source": [
    "\n",
    "<font size=\"5\">Tworzenie Feature Store </font>"
   ]
  },
  {
   "cell_type": "code",
   "execution_count": null,
   "id": "db7c1648-01ab-4e0d-94fe-aa2722b32a6a",
   "metadata": {},
   "outputs": [],
   "source": [
    "import random\n",
    "import string\n",
    "\n",
    "\n",
    "# Generate a uuid of a specifed length(default=8)\n",
    "def generate_uuid(length: int = 8) -> str:\n",
    "    return \"\".join(random.choices(string.ascii_lowercase + string.digits, k=length))\n",
    "\n",
    "\n",
    "UUID = generate_uuid()\n",
    "     "
   ]
  },
  {
   "cell_type": "code",
   "execution_count": null,
   "id": "5349cf8f-21ec-4943-ad60-56a8a42fdfed",
   "metadata": {},
   "outputs": [],
   "source": [
    "FEATURESTORE_ID = \"clients\"\n",
    "\n",
    "clients_feature_store = aiplatform.Featurestore.create(\n",
    "    featurestore_id=FEATURESTORE_ID,\n",
    "    online_store_fixed_node_count=1,\n",
    "    project=PROJECT,\n",
    "    location=REGION,\n",
    "    sync=True,\n",
    ")"
   ]
  },
  {
   "cell_type": "code",
   "execution_count": null,
   "id": "f1d63a6a-a5c3-42ff-a60e-c76307ebd0f2",
   "metadata": {},
   "outputs": [],
   "source": [
    "clients_feature_store = aiplatform.featurestore.Featurestore(featurestore_name=FEATURESTORE_ID)"
   ]
  },
  {
   "attachments": {},
   "cell_type": "markdown",
   "id": "b4f2b4f6-acb8-4aa0-bc40-8b9c50290dc4",
   "metadata": {},
   "source": [
    "<font size=\"5\">Weryfikacja Feature Store </font>"
   ]
  },
  {
   "cell_type": "code",
   "execution_count": null,
   "id": "c5df4e6b-3773-4f31-a9ab-ca7ddf6583a0",
   "metadata": {},
   "outputs": [],
   "source": [
    "fs = Featurestore(\n",
    "    featurestore_name=FEATURESTORE_ID,\n",
    "    project=PROJECT,\n",
    "    location=\"europe-west1\",\n",
    ")\n",
    "print(fs.gca_resource)"
   ]
  },
  {
   "attachments": {},
   "cell_type": "markdown",
   "id": "7f016e99-dd42-4e06-864a-5d5ec8790bdd",
   "metadata": {},
   "source": [
    "## Tworzenie entity\n",
    "\n",
    "Tutaj utworzymy entity nazwaną `client_entity` za pomocą `create_entity_type` z poniższymi parametrami:\n",
    "\n",
    "\n",
    "`entity_type_id (str)`: Identyfikator używany dla entity, który będzie finalnym komponentem Feature Store. Wartość musi być unikalna w ramach Feature Store.\n",
    "`description`: Opis entity."
   ]
  },
  {
   "cell_type": "code",
   "execution_count": null,
   "id": "a3edb4c8-7e4f-44b4-80d2-bed2e61cf94b",
   "metadata": {},
   "outputs": [],
   "source": [
    "ENTITY_TYPE_ID = \"client\"\n",
    "\n",
    "# Create client entity type\n",
    "client_entity_type = clients_feature_store.create_entity_type(\n",
    "    entity_type_id=ENTITY_TYPE_ID,\n",
    "    description=\"Clients entity type\",\n",
    ")"
   ]
  },
  {
   "attachments": {},
   "cell_type": "markdown",
   "id": "61c9cd24-68f1-4cc9-8912-494d557bc6a3",
   "metadata": {},
   "source": [
    "### Weryfikacja utworzenia entity\n",
    "Weryfikacja, czy `entity type` zostało poprawnie utworzone poprzez uruchomienie poniższego kodu"
   ]
  },
  {
   "cell_type": "code",
   "execution_count": null,
   "id": "c6be00f6-5b90-40fc-bb66-d3e4cd637743",
   "metadata": {},
   "outputs": [],
   "source": [
    "entity_type = clients_feature_store.get_entity_type(entity_type_id=ENTITY_TYPE_ID)\n",
    "print(entity_type.gca_resource)"
   ]
  },
  {
   "attachments": {},
   "cell_type": "markdown",
   "id": "4f736d39-173b-474d-98af-d5876a141c09",
   "metadata": {},
   "source": [
    "# Create Features\n",
    "\n",
    "Feature / cecha jest mierzalną właściwością lub atrybutem dla typu jednostki. Dla przykładu `client entity` posiada cechę taką jak liczba posiadanych produktów kredytowych.\n",
    "\n",
    "Podczas tworzenia cechy określany jest typ wartości - może być to DOUBLE oraz STRING. \n"
   ]
  },
  {
   "cell_type": "code",
   "execution_count": null,
   "id": "2e7706a9-4eaa-4da2-86b8-98d4bae0e0f5",
   "metadata": {},
   "outputs": [],
   "source": [
    "\n",
    "\n",
    "# Create age feature\n",
    "max_dpd_6m = client_entity_type.create_feature(\n",
    "    feature_id=\"max_dpd_6m\",\n",
    "    value_type=\"INT64\",\n",
    "    description=\"Max DPD\",\n",
    ")\n",
    "\n",
    "# Create gender feature\n",
    "max_exp_csh_6m = client_entity_type.create_feature(\n",
    "    feature_id=\"max_exp_csh_6m\",\n",
    "    value_type=\"DOUBLE\",\n",
    "    description=\"Maximum expositions in cash products in last 6 months\",\n",
    ")\n",
    "\n",
    "# Create liked_genres feature\n",
    "max_exp_hipo_3m = client_entity_type.create_feature(\n",
    "    feature_id=\"max_exp_hipo_3m\",\n",
    "    value_type=\"DOUBLE\",\n",
    "    description=\"An array of genres this user liked\",\n",
    ")\n",
    "\n",
    "# Create age feature\n",
    "trx_out_sum = client_entity_type.create_feature(\n",
    "    feature_id=\"trx_out_sum\",\n",
    "    value_type=\"DOUBLE\",\n",
    "    description=\"User age\",\n",
    ")\n",
    "\n",
    "# Create gender feature\n",
    "users_feature_gender = client_entity_type.create_feature(\n",
    "    feature_id=\"trx_in_sum\",\n",
    "    value_type=\"DOUBLE\",\n",
    "    description=\"User gender\",\n",
    ")\n",
    "\n",
    "# Create liked_genres feature\n",
    "cnt_hipo = client_entity_type.create_feature(\n",
    "    feature_id=\"cnt_hipo\",\n",
    "    value_type=\"INT64\",\n",
    "    description=\"An array of genres this user liked\",\n",
    ")\n",
    "\n",
    "\n",
    "# Create liked_genres feature\n",
    "cnt_csh = client_entity_type.create_feature(\n",
    "    feature_id=\"cnt_csh\",\n",
    "    value_type=\"INT64\",\n",
    "    description=\"An array of genres this user liked\",\n",
    ")"
   ]
  },
  {
   "cell_type": "code",
   "execution_count": null,
   "id": "4f4149f7-03a8-45cd-adf0-21c036d5fe57",
   "metadata": {},
   "outputs": [],
   "source": [
    "features = clients_feature_store.get_features(entity_type_id=ENTITY_TYPE_ID)\n",
    "print(entity_type.gca_resource)"
   ]
  },
  {
   "attachments": {},
   "cell_type": "markdown",
   "id": "82875a09-ad08-4d30-9ecf-a486761a83b4",
   "metadata": {},
   "source": [
    "#### Wyszukiwanie atrybutów wg kryteriów"
   ]
  },
  {
   "cell_type": "code",
   "execution_count": null,
   "id": "11cf6420-21a2-4e02-be98-de194e8c8d57",
   "metadata": {},
   "outputs": [],
   "source": [
    "double_features = Feature.search(\n",
    "    query=\"value_type=DOUBLE AND featurestore_id={}\".format(FEATURESTORE_ID)\n",
    ")\n",
    "\n",
    "for i in double_features:\n",
    "    print(i.gca_resource)"
   ]
  },
  {
   "attachments": {},
   "cell_type": "markdown",
   "id": "992533ee-228f-4678-9b48-5e2a5579b8a9",
   "metadata": {},
   "source": [
    "## Weryfikacja utworzonych obiektów"
   ]
  },
  {
   "cell_type": "code",
   "execution_count": null,
   "id": "b90107eb-0965-478f-847f-28650be8d35c",
   "metadata": {},
   "outputs": [],
   "source": [
    "fs.list_entity_types()"
   ]
  },
  {
   "cell_type": "code",
   "execution_count": null,
   "id": "14eecde0-b59a-4759-9f9c-d01767921eab",
   "metadata": {},
   "outputs": [],
   "source": [
    "client_entity_type.list_features()"
   ]
  },
  {
   "attachments": {},
   "cell_type": "markdown",
   "id": "06acab22-7658-4a59-837f-bbbb35a8ed1e",
   "metadata": {},
   "source": [
    "\n",
    "### Ładowanie danych do Feature Store\n",
    "Use the write_feature_values API to write a feature to the Feature Store with the following parameter:\n",
    "\n",
    "`instances:`  Feature values to be written to the Feature Store that can take the form of a list of WriteFeatureValuesPayload objects, a Python dict, or a pandas Dataframe.\n",
    "This streaming ingestion feature has been introduced to the Vertex AI SDK under the preview namespace. Here, you pass the pandas Dataframe you created from penguins dataset as instances parameter."
   ]
  },
  {
   "cell_type": "code",
   "execution_count": null,
   "id": "81f8d7ab-d92b-4cef-aa5f-7194f441c3c4",
   "metadata": {},
   "outputs": [],
   "source": [
    "client_entity_type.preview.write_feature_values(instances=clients_df)"
   ]
  },
  {
   "attachments": {},
   "cell_type": "markdown",
   "id": "fda472df-f03b-44e9-a939-616c2df312c6",
   "metadata": {},
   "source": [
    "### Czytanie danych"
   ]
  },
  {
   "cell_type": "code",
   "execution_count": null,
   "id": "452b2953-9984-4337-b2ef-2b89b2e5f192",
   "metadata": {},
   "outputs": [],
   "source": [
    "client_entity_type.read(entity_ids=\"6GFPZ3IMQZ8IFDOZZMMMZ3L0IR8BXXHQ\")"
   ]
  },
  {
   "cell_type": "code",
   "execution_count": null,
   "id": "fa430148-d89c-451a-b1c7-5e1eb8cfb294",
   "metadata": {},
   "outputs": [],
   "source": [
    "client_entity_type.read(entity_ids=\"EN87HWPSW3BNTB28VX921RMK6KUCJY3I\", feature_ids=\"trx_in_sum\")"
   ]
  },
  {
   "cell_type": "code",
   "execution_count": null,
   "id": "7e90885f-35ba-4594-b799-6fb6404eab2c",
   "metadata": {},
   "outputs": [],
   "source": [
    "client_entity_type.read(entity_ids=\"6GFPZ3IMQZ8IFDOZZMMMZ3L0IR8BXXHQ\", feature_ids=[\"trx_in_sum\", \"cnt_csh\"])"
   ]
  },
  {
   "cell_type": "code",
   "execution_count": null,
   "id": "4a995d58-1455-423f-b515-63de475321f7",
   "metadata": {},
   "outputs": [],
   "source": [
    "client_entity_type.read(entity_ids=[\"6GFPZ3IMQZ8IFDOZZMMMZ3L0IR8BXXHQ\", \"GDRJAH6LZMH3ZTP92P4TESWYP9KNE27E\"])"
   ]
  },
  {
   "attachments": {},
   "cell_type": "markdown",
   "id": "9a83bfc4-174b-4758-b674-9bff7ebd984f",
   "metadata": {},
   "source": [
    "### Usuwanie Feature Store"
   ]
  },
  {
   "cell_type": "code",
   "execution_count": 78,
   "id": "7136f74b-53fa-4ddd-bc16-f54fd19544cd",
   "metadata": {},
   "outputs": [
    {
     "name": "stdout",
     "output_type": "stream",
     "text": [
      "Deleting Featurestore : projects/237095192912/locations/europe-west1/featurestores/clients\n",
      "Delete Featurestore  backing LRO: projects/237095192912/locations/europe-west1/operations/6613878000909811712\n",
      "Featurestore deleted. . Resource name: projects/237095192912/locations/europe-west1/featurestores/clients\n"
     ]
    }
   ],
   "source": [
    "clients_feature_store.delete(force=True)"
   ]
  },
  {
   "attachments": {},
   "cell_type": "markdown",
   "id": "0dba916c-9bf2-4b49-82cc-482505282a7a",
   "metadata": {},
   "source": [
    "### Ładowanie danych z GCS"
   ]
  },
  {
   "cell_type": "code",
   "execution_count": null,
   "id": "f71501c2-baf4-432b-88f6-00b4d944868b",
   "metadata": {},
   "outputs": [],
   "source": [
    "FEATURESTORE_ID = \"accounts\"\n",
    "\n",
    "featurestore_accounts = aiplatform.Featurestore.create(\n",
    "    featurestore_id=FEATURESTORE_ID,\n",
    "    online_store_fixed_node_count=1,\n",
    "    project=PROJECT,\n",
    "    location=REGION,\n",
    "    sync=True,\n",
    ")"
   ]
  },
  {
   "cell_type": "code",
   "execution_count": null,
   "id": "be712318-6520-4a8a-a229-5d1aeef1aec0",
   "metadata": {},
   "outputs": [],
   "source": [
    "featurestore_accounts = aiplatform.featurestore.Featurestore(featurestore_name=FEATURESTORE_ID)\n"
   ]
  },
  {
   "attachments": {},
   "cell_type": "markdown",
   "id": "9e3c601d-8048-4e88-9d8d-6987f4e3b777",
   "metadata": {},
   "source": [
    "#### Tutaj utworzymy entity poprzez consolę"
   ]
  },
  {
   "cell_type": "code",
   "execution_count": null,
   "id": "14598801-99f1-4477-b804-a0b13a518ae1",
   "metadata": {},
   "outputs": [],
   "source": [
    "featurestore_accounts.list_entity_types()"
   ]
  },
  {
   "attachments": {},
   "cell_type": "markdown",
   "id": "a347d845-5296-41c0-ad3a-a674cd41ec37",
   "metadata": {},
   "source": [
    "### Tworzenie features"
   ]
  },
  {
   "cell_type": "code",
   "execution_count": null,
   "id": "b469fc35-d5a7-436a-a061-3ff8946c60ad",
   "metadata": {},
   "outputs": [],
   "source": [
    "accounts_feature_configs = {\n",
    "    \"max_dpd_3m\": {\n",
    "        \"value_type\": \"DOUBLE\",\n",
    "    },\n",
    "    \"max_exp_6m\": {\n",
    "        \"value_type\": \"DOUBLE\",\n",
    "    },\n",
    "    \"trx_out_sum\": {\n",
    "        \"value_type\": \"DOUBLE\",\n",
    "    },\n",
    "    \"trx_in_sum\": {\n",
    "        \"value_type\": \"DOUBLE\",\n",
    "    }\n",
    "}"
   ]
  },
  {
   "cell_type": "code",
   "execution_count": null,
   "id": "c13a32db",
   "metadata": {},
   "outputs": [],
   "source": [
    "account_entity= aiplatform.featurestore.EntityType(featurestore_id=FEATURESTORE_ID, entity_type_name='account')"
   ]
  },
  {
   "cell_type": "code",
   "execution_count": null,
   "id": "f7fce772-b766-4102-a2f4-9db14b220719",
   "metadata": {},
   "outputs": [],
   "source": [
    "accounts_featurea = account_entity.batch_create_features(\n",
    "    feature_configs=accounts_feature_configs,\n",
    ")"
   ]
  },
  {
   "cell_type": "code",
   "execution_count": null,
   "id": "a18cc3a3-450b-4827-9b03-43eac43ec613",
   "metadata": {},
   "outputs": [],
   "source": [
    "print(account_entity.gca_resource)"
   ]
  },
  {
   "attachments": {},
   "cell_type": "markdown",
   "id": "0a0efa47-67a9-47e8-a6cd-218e1c43065b",
   "metadata": {},
   "source": [
    "#### Wyszukiwanie cech"
   ]
  },
  {
   "cell_type": "code",
   "execution_count": null,
   "id": "538af31d-e5b1-4618-9347-9cd4c72a8e92",
   "metadata": {},
   "outputs": [
    {
     "name": "stdout",
     "output_type": "stream",
     "text": [
      "max_exp_csh_6m\n",
      "max_exp_hipo_3m\n",
      "trx_in_sum\n",
      "trx_out_sum\n"
     ]
    }
   ],
   "source": [
    "double_features = Feature.search(\n",
    "    query=\"value_type=DOUBLE AND featurestore_id={}\".format(FEATURESTORE_ID)\n",
    ")\n",
    "\n",
    "for i in double_features:\n",
    "    print(i.name)"
   ]
  },
  {
   "attachments": {},
   "cell_type": "markdown",
   "id": "4134b298-a5b0-493b-96c8-c89054321e67",
   "metadata": {},
   "source": [
    "### Ładowanie features z GCS z pliku `csv`"
   ]
  },
  {
   "attachments": {},
   "cell_type": "markdown",
   "id": "16c229f0-7346-498d-87ee-76dc991a5db1",
   "metadata": {},
   "source": [
    "### Ładowanie danych do features dla `account_entity`"
   ]
  },
  {
   "cell_type": "code",
   "execution_count": null,
   "id": "7fd8758f-6186-4075-8e85-6b37e50ed572",
   "metadata": {},
   "outputs": [
    {
     "name": "stdout",
     "output_type": "stream",
     "text": [
      "['max_exp_6m', 'trx_in_sum', 'trx_out_sum', 'max_dpd_3m']\n"
     ]
    }
   ],
   "source": [
    "ACCOUNT_FEATURES_IDS = [feature.name for feature in account_entity.list_features()]\n",
    "ACCOUNT_FEATURE_TIME = \"update_time\"\n",
    "ACCOUNT_ENTITY_ID_FIELD = \"acct_id\"\n",
    "ACCOUNT_GCS_SOURCE_URI = (\"gs://data_feature_store/features_acct.csv\")\n",
    "GCS_SOURCE_TYPE = \"csv\"\n",
    "WORKER_COUNT = 1\n",
    "print(ACCOUNT_FEATURES_IDS)"
   ]
  },
  {
   "cell_type": "code",
   "execution_count": null,
   "id": "1ec91c7e-678d-4629-b2f3-9e36b1dafe88",
   "metadata": {},
   "outputs": [
    {
     "name": "stdout",
     "output_type": "stream",
     "text": [
      "Importing EntityType feature values: projects/237095192912/locations/europe-west1/featurestores/accounts_hbsqrz5q/entityTypes/account\n"
     ]
    },
    {
     "data": {
      "text/plain": [
       "<google.cloud.aiplatform.featurestore.entity_type.EntityType object at 0x7f5af0161db0> \n",
       "resource name: projects/237095192912/locations/europe-west1/featurestores/accounts_hbsqrz5q/entityTypes/account"
      ]
     },
     "execution_count": 77,
     "metadata": {},
     "output_type": "execute_result"
    },
    {
     "name": "stdout",
     "output_type": "stream",
     "text": [
      "Import EntityType feature values backing LRO: projects/237095192912/locations/europe-west1/featurestores/accounts_hbsqrz5q/entityTypes/account/operations/8293720661919006720\n"
     ]
    }
   ],
   "source": [
    "account_entity.ingest_from_gcs(\n",
    "    feature_ids=ACCOUNT_FEATURES_IDS,\n",
    "    feature_time=ACCOUNT_FEATURE_TIME,\n",
    "    entity_id_field=ACCOUNT_ENTITY_ID_FIELD,\n",
    "    gcs_source_uris=ACCOUNT_GCS_SOURCE_URI,\n",
    "    gcs_source_type=GCS_SOURCE_TYPE,\n",
    "    worker_count=WORKER_COUNT,\n",
    "    sync=False,\n",
    ")\n",
    "     "
   ]
  },
  {
   "attachments": {},
   "cell_type": "markdown",
   "id": "4e57e41d-e0c8-4ffa-bc3b-4b5bd301e42c",
   "metadata": {},
   "source": [
    "#### Pobieranie danych\n",
    "#### Online serving\n",
    "\n",
    "Serwowanie danych online umozliwia udostępnianie wartości dla jednostki (enity) jako wycinek danych. Taki sposób udostępniania jest przeznaczony dla usług, dla których czas odczytu danych jest krytyczny. \n",
    "Dzięki SDK Pythona łatwo jest odczytać wartości artybutów dla danej jednostki [entity]. Domyślnie zapytanie zwróci najnowszą wartość dla atrybutu [feature], czyli wartości cechy [feature] z najnowszym przypisanym timestamp.\n",
    "\n",
    "Aby odczytać wartości cech nalezy określić identyfikator jednostki [entity id] oraz listę cech [features] do odczytania. \n",
    "Domyślnie wybrane zostaną wszystkie cechy. \n",
    "Odpowiedź wyświetli wybrany identyfikator typu jednostki oraz wybrane wartości cech jako ramkę danych Pandas."
   ]
  },
  {
   "cell_type": "code",
   "execution_count": null,
   "id": "f1cf9b01-a2e7-4aab-9b52-0f889632dba6",
   "metadata": {},
   "outputs": [
    {
     "name": "stdout",
     "output_type": "stream",
     "text": [
      "                          entity_id  max_dpd_3m  max_exp_6m  trx_out_sum  \\\n",
      "0  DUN12HN5H9WLNSQ2OYM2CUBX11XIPE4G       851.0     8795.01 -38959666.92   \n",
      "1  HAMZSIBWJTXZUZ2QC6F3GKMVVRRKSDHL       107.0     3811.05 -51956201.29   \n",
      "2  I6IMP5JO2XF53YK2QPLYQEMDFIV6Z78A       175.0     1515.91 -55816551.75   \n",
      "3  P1AEIIVCXIRIRDP9MJRLNCUSJS52IO1Z       144.0     7700.99 -29396886.41   \n",
      "\n",
      "   trx_in_sum  \n",
      "0   125079.82  \n",
      "1    19026.41  \n",
      "2   257443.58  \n",
      "3   172535.72  \n"
     ]
    }
   ],
   "source": [
    "\n",
    "fetch_data = account_entity.read(\n",
    "    entity_ids=[\"DUN12HN5H9WLNSQ2OYM2CUBX11XIPE4G\", \"HAMZSIBWJTXZUZ2QC6F3GKMVVRRKSDHL\", \"I6IMP5JO2XF53YK2QPLYQEMDFIV6Z78A\", \"P1AEIIVCXIRIRDP9MJRLNCUSJS52IO1Z\"],\n",
    "    feature_ids=[\"max_dpd_3m\", \"max_exp_6m\" ,\"trx_out_sum\", \"trx_in_sum\"]\n",
    ")\n",
    "\n",
    "print(fetch_data)"
   ]
  },
  {
   "attachments": {},
   "cell_type": "markdown",
   "id": "e86c51f2-3739-44ee-ac96-076dc4486cc3",
   "metadata": {},
   "source": [
    "#### Czytanie danych - dla jednostki per request"
   ]
  },
  {
   "cell_type": "code",
   "execution_count": null,
   "id": "11f5b1c2",
   "metadata": {},
   "outputs": [],
   "source": [
    "users_entity_type.read(entity_ids=\"DUN12HN5H9WLNSQ2OYM2CUBX11XIPE4G\")"
   ]
  },
  {
   "cell_type": "code",
   "execution_count": null,
   "id": "ea4d3d26",
   "metadata": {},
   "outputs": [],
   "source": [
    "\n",
    "feature_selector = FeatureSelector(\n",
    "    id_matcher=IdMatcher(ids=[\"max_exp_6m\", \"trx_out_sum\", \"trx_in_sum\"])\n",
    ")\n",
    "\n",
    "data_client.read_feature_values(\n",
    "    featurestore_online_service_pb2.ReadFeatureValuesRequest(\n",
    "        entity_type=admin_client.entity_type_path(\n",
    "            PROJECT_ID, REGION, FEATURESTORE_ID, \"account\"\n",
    "        ),\n",
    "        # Fetch the user features whose ID is \"alice\"\n",
    "        entity_id=\"DUN12HN5H9WLNSQ2OYM2CUBX11XIPE4G\",\n",
    "        feature_selector=feature_selector,\n",
    "    )\n",
    ")"
   ]
  },
  {
   "attachments": {},
   "cell_type": "markdown",
   "id": "356f7538",
   "metadata": {},
   "source": []
  },
  {
   "attachments": {},
   "cell_type": "markdown",
   "id": "413504cc-509f-414d-bed2-39596e450d7f",
   "metadata": {},
   "source": [
    "### Batch Serving"
   ]
  },
  {
   "attachments": {},
   "cell_type": "markdown",
   "id": "f73ceefc",
   "metadata": {},
   "source": [
    "Udostępnianie batchowe słuzy do pobierania duzych ilości danych "
   ]
  },
  {
   "cell_type": "code",
   "execution_count": null,
   "id": "c60b6a0e",
   "metadata": {},
   "outputs": [],
   "source": [
    "from datetime import datetime\n",
    "from google.cloud import bigquery"
   ]
  },
  {
   "cell_type": "code",
   "execution_count": null,
   "id": "a2b35163",
   "metadata": {},
   "outputs": [],
   "source": [
    "\n",
    "# Output dataset\n",
    "DESTINATION_DATA_SET = \"client_data\"  # @param {type:\"string\"}\n",
    "TIMESTAMP = datetime.now().strftime(\"%Y%m%d%H%M%S\")\n",
    "DESTINATION_DATA_SET = \"{prefix}_{timestamp}\".format(\n",
    "    prefix=DESTINATION_DATA_SET, timestamp=TIMESTAMP\n",
    ")\n",
    "\n",
    "# Output table. Make sure that the table does NOT already exist; the BatchReadFeatureValues API cannot overwrite an existing table\n",
    "DESTINATION_TABLE_NAME = \"client\"  # @param {type:\"string\"}\n",
    "\n",
    "DESTINATION_PATTERN = \"bq://{project}.{dataset}.{table}\"\n",
    "DESTINATION_TABLE_URI = DESTINATION_PATTERN.format(\n",
    "    project=PROJECT, dataset=DESTINATION_DATA_SET, table=DESTINATION_TABLE_NAME\n",
    ")"
   ]
  },
  {
   "cell_type": "code",
   "execution_count": null,
   "id": "e3581fc7",
   "metadata": {},
   "outputs": [],
   "source": [
    "\n",
    "# Create dataset\n",
    "client = bigquery.Client(project=PROJECT)\n",
    "dataset_id = \"{}.{}\".format(client.project, DESTINATION_DATA_SET)\n",
    "dataset = bigquery.Dataset(dataset_id)\n",
    "dataset.location = REGION\n",
    "dataset = client.create_dataset(dataset)\n",
    "print(\"Created dataset {}.{}\".format(client.project, dataset.dataset_id))"
   ]
  },
  {
   "cell_type": "code",
   "execution_count": null,
   "id": "a83eefbd",
   "metadata": {},
   "outputs": [],
   "source": [
    "\n",
    "SERVING_FEATURE_IDS = {\n",
    "    # to choose all the features use 'entity_type_id: ['*']'\n",
    "    \"account\": [\"max_dpd_3m\", \"trx_out_sum\", \"trx_in_sum\"],\n",
    "}\n",
    "     "
   ]
  },
  {
   "cell_type": "code",
   "execution_count": null,
   "id": "3ec85b35",
   "metadata": {},
   "outputs": [],
   "source": [
    "fs.batch_serve_to_bq(\n",
    "    bq_destination_output_uri=DESTINATION_TABLE_URI,\n",
    "    serving_feature_ids=SERVING_FEATURE_IDS,\n",
    "    read_instances_uri=ACCOUNT_GCS_SOURCE_URI,\n",
    ")\n",
    "   "
   ]
  },
  {
   "attachments": {},
   "cell_type": "markdown",
   "id": "cd1720d8-a8ef-4672-9b6c-bfff4e338af5",
   "metadata": {},
   "source": [
    "\n",
    "## Czyszczenie"
   ]
  },
  {
   "cell_type": "code",
   "execution_count": null,
   "id": "18a100e2-3361-45c5-a0d9-a153ae772b34",
   "metadata": {},
   "outputs": [
    {
     "name": "stdout",
     "output_type": "stream",
     "text": [
      "Deleting Featurestore : projects/237095192912/locations/europe-west1/featurestores/clients_hbsqrz5q\n",
      "Delete Featurestore  backing LRO: projects/237095192912/locations/europe-west1/operations/8295128036802560000\n",
      "Featurestore deleted. . Resource name: projects/237095192912/locations/europe-west1/featurestores/clients_hbsqrz5q\n"
     ]
    }
   ],
   "source": [
    "featurestore_accounts.delete(force=True)"
   ]
  },
  {
   "cell_type": "code",
   "execution_count": null,
   "id": "2e94515f-d66a-40cf-9844-4e7a7aa6bc97",
   "metadata": {},
   "outputs": [],
   "source": []
  }
 ],
 "metadata": {
  "environment": {
   "kernel": "python3",
   "name": "common-cpu.m109",
   "type": "gcloud",
   "uri": "gcr.io/deeplearning-platform-release/base-cpu:m109"
  },
  "kernelspec": {
   "display_name": "Python 3",
   "language": "python",
   "name": "python3"
  },
  "language_info": {
   "codemirror_mode": {
    "name": "ipython",
    "version": 3
   },
   "file_extension": ".py",
   "mimetype": "text/x-python",
   "name": "python",
   "nbconvert_exporter": "python",
   "pygments_lexer": "ipython3",
   "version": "3.10.11"
  }
 },
 "nbformat": 4,
 "nbformat_minor": 5
}
